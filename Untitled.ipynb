{
 "cells": [
  {
   "cell_type": "code",
   "execution_count": 1,
   "id": "5619e312-1268-4b0a-8f57-96819b8cd65f",
   "metadata": {},
   "outputs": [
    {
     "name": "stdout",
     "output_type": "stream",
     "text": [
      "Hola\n"
     ]
    }
   ],
   "source": [
    "print(\"Hola\")\n"
   ]
  },
  {
   "cell_type": "code",
   "execution_count": 2,
   "id": "54f20865-7870-42fe-a539-2c5ee743ff00",
   "metadata": {},
   "outputs": [
    {
     "name": "stdout",
     "output_type": "stream",
     "text": [
      "[15.4, 18.1, 19.2, 20.2, 21.4, 20.1, 18.9, 19.8, 19.4, 19.1, 17.9, 15.7]\n"
     ]
    }
   ],
   "source": [
    "temp_cdn = [15.4, 18.1, 19.2, 20.2, 21.4, 20.1, 18.9, 19.8, 19.4, 19.1, 17.9, 15.7]  \n",
    "print(temp_cdn)\n"
   ]
  },
  {
   "cell_type": "code",
   "execution_count": 6,
   "id": "eb43a03c-4c1e-402e-a61a-5817854aca3e",
   "metadata": {},
   "outputs": [
    {
     "name": "stdout",
     "output_type": "stream",
     "text": [
      "The temperature in Fahrenheit of -10°C is 14.0°F\n",
      "The temperature in Fahrenheit of 25°C is 77.0°F\n",
      "The temperature in Fahrenheit of 100°C is 212.0°F\n"
     ]
    }
   ],
   "source": [
    "def temp_convert(celsius):return 1.8 * celsius + 32  \n",
    "  \n",
    "temperature_1 = temp_convert(-10)  \n",
    "temperature_2 = temp_convert(25)  \n",
    "temperature_3 = temp_convert(100)  \n",
    "  \n",
    "print(f\"The temperature in Fahrenheit of -10°C is {temperature_1}°F\")  \n",
    "print(f\"The temperature in Fahrenheit of 25°C is {temperature_2}°F\")  \n",
    "print(f\"The temperature in Fahrenheit of 100°C is {temperature_3}°F\")  \n"
   ]
  },
  {
   "cell_type": "code",
   "execution_count": 13,
   "id": "c102342f-21b5-4714-af1d-98c0ec7c6e2f",
   "metadata": {},
   "outputs": [
    {
     "name": "stdout",
     "output_type": "stream",
     "text": [
      "[15.4, 18.1, 19.2, 20.2, 21.4, 20.1, 18.9, 19.8, 19.4, 19.1, 17.9, 15.7]\n",
      "1\n",
      "2\n",
      "3\n",
      "4\n",
      "5\n",
      "6\n",
      "7\n",
      "8\n",
      "9\n",
      "10\n",
      "11\n",
      "12\n"
     ]
    }
   ],
   "source": [
    "temp_cdn = [15.4, 18.1, 19.2, 20.2, 21.4, 20.1, 18.9, 19.8, 19.4, 19.1, 17.9, 15.7]  \n",
    "print(temp_cdn)\n",
    "def temp_convert(celsius):return 1.8 * celsius + 32  \n",
    "Num = [1,2,3,4,5,6,7,8,9,10,11,12]  \n",
    "temps = [15.4, 18.1, 19.2, 20.2, 21.4, 20.1, 18.9, 19.8, 19.4, 19.1, 17.9, 15.7]  \n",
    "\n",
    "for n in Num:\n",
    "    print(n)"
   ]
  },
  {
   "cell_type": "code",
   "execution_count": 15,
   "id": "9f4b07a4-d009-4a94-b285-a7ed92bb4631",
   "metadata": {},
   "outputs": [
    {
     "name": "stdout",
     "output_type": "stream",
     "text": [
      "[15.4, 18.1, 19.2, 20.2, 21.4, 20.1, 18.9, 19.8, 19.4, 19.1, 17.9, 15.7]\n",
      "59.72\n",
      "64.58000000000001\n",
      "66.56\n",
      "68.36\n",
      "70.52\n",
      "68.18\n",
      "66.02\n",
      "67.64\n",
      "66.92\n",
      "66.38\n",
      "64.22\n",
      "60.26\n"
     ]
    }
   ],
   "source": [
    "temp_cdn = [15.4, 18.1, 19.2, 20.2, 21.4, 20.1, 18.9, 19.8, 19.4, 19.1, 17.9, 15.7]  \n",
    "print(temp_cdn)\n",
    "def temp_convert(celsius):return 1.8 * celsius + 32  \n",
    "Num = [1,2,3,4,5,6,7,8,9,10,11,12]  \n",
    "temps = [15.4, 18.1, 19.2, 20.2, 21.4, 20.1, 18.9, 19.8, 19.4, 19.1, 17.9, 15.7]  \n",
    "\n",
    "for n in temps:\n",
    "    print(temp_convert(n))"
   ]
  },
  {
   "cell_type": "code",
   "execution_count": 15,
   "id": "f7913e6a",
   "metadata": {},
   "outputs": [
    {
     "name": "stdout",
     "output_type": "stream",
     "text": [
      "[15.4, 18.1, 19.2, 20.2, 21.4, 20.1, 18.9, 19.8, 19.4, 19.1, 17.9, 15.7]\n",
      "59.72\n",
      "64.58000000000001\n",
      "66.56\n",
      "68.36\n",
      "70.52\n",
      "68.18\n",
      "66.02\n",
      "67.64\n",
      "66.92\n",
      "66.38\n",
      "64.22\n",
      "60.26\n"
     ]
    }
   ],
   "source": [
    "temp_cdn = [15.4, 18.1, 19.2, 20.2, 21.4, 20.1, 18.9, 19.8, 19.4, 19.1, 17.9, 15.7]  \n",
    "print(temp_cdn)\n",
    "def temp_convert(celsius):return 1.8 * celsius + 32  \n",
    "Num = [1,2,3,4,5,6,7,8,9,10,11,12]  \n",
    "temps = [15.4, 18.1, 19.2, 20.2, 21.4, 20.1, 18.9, 19.8, 19.4, 19.1, 17.9, 15.7]  \n",
    "\n",
    "for n in temps:\n",
    "    print(temp_convert(n))"
   ]
  },
  {
   "cell_type": "code",
   "execution_count": 34,
   "id": "df686442-0ea8-4f3e-bcb4-2aaac18098cc",
   "metadata": {},
   "outputs": [
    {
     "name": "stdout",
     "output_type": "stream",
     "text": [
      "[15.4, 18.1, 19.2, 20.2, 21.4, 20.1, 18.9, 19.8, 19.4, 19.1, 17.9, 15.7]\n",
      "FILA 4:  68.36\n",
      "FILA 8:  67.64\n",
      "El promedio de temperatura anual en FARHANHEIT es: 65.78\n",
      "El promedio de temperatura anual en CELSIUS es: 18.76666666666667\n"
     ]
    }
   ],
   "source": [
    "temp_cdn = [15.4, 18.1, 19.2, 20.2, 21.4, 20.1, 18.9, 19.8, 19.4, 19.1, 17.9, 15.7]  \n",
    "print(temp_cdn)\n",
    "def temp_convert(celsius):return 1.8 * celsius + 32  \n",
    "Num = [1,2,3,4,5,6,7,8,9,10,11,12]  \n",
    "temps = [15.4, 18.1, 19.2, 20.2, 21.4, 20.1, 18.9, 19.8, 19.4, 19.1, 17.9, 15.7]  \n",
    "\n",
    "\n",
    "print(\"FILA 4: \",temp_convert(20.2))\n",
    "print(\"FILA 8: \", temp_convert(19.8))\n",
    "\n",
    "temp_conver = [temp_convert(15.4),temp_convert(18.1),temp_convert(19.2),temp_convert(20.2),temp_convert(21.4),temp_convert(20.1),temp_convert(18.9),temp_convert(19.8),temp_convert(19.4),temp_convert(19.1),temp_convert(17.9),temp_convert(15.7)]\n",
    "\n",
    "def temp_promedio(temp):\n",
    "    total = sum(temp)\n",
    "    promedio = total / len(temp)\n",
    "    return promedio  \n",
    "  \n",
    "temperaturas = [1, 5, 15.7, 12, 14, 16, 18, 29, 23, 13, 45, 23, 12]  \n",
    "promedio_anual = temp_promedio(temp_conver)  \n",
    "print(\"El promedio de temperatura anual en FARHANHEIT es:\", promedio_anual)  \n",
    "\n",
    "promedio_anual = temp_promedio(temp_cdn)  \n",
    "print(\"El promedio de temperatura anual en CELSIUS es:\", promedio_anual)  \n"
   ]
  },
  {
   "cell_type": "code",
   "execution_count": 35,
   "id": "3a9fb729-8cb8-4f4f-8266-573a688b164c",
   "metadata": {},
   "outputs": [
    {
     "name": "stdout",
     "output_type": "stream",
     "text": [
      "[15.4, 18.1, 19.2, 20.2, 21.4, 20.1, 18.9, 19.8, 19.4, 19.1, 17.9, 15.7]\n",
      "FILA 4:  68.36\n",
      "FILA 8:  67.64\n",
      "[59.72, 64.58000000000001, 66.56, 68.36, 70.52, 68.18, 66.02, 67.64, 66.92, 66.38, 64.22, 60.26]\n"
     ]
    }
   ],
   "source": [
    "temp_cdn = [15.4, 18.1, 19.2, 20.2, 21.4, 20.1, 18.9, 19.8, 19.4, 19.1, 17.9, 15.7]  \n",
    "print(temp_cdn)\n",
    "def temp_convert(celsius):return 1.8 * celsius + 32  \n",
    "Num = [1,2,3,4,5,6,7,8,9,10,11,12]  \n",
    "temps = [15.4, 18.1, 19.2, 20.2, 21.4, 20.1, 18.9, 19.8, 19.4, 19.1, 17.9, 15.7]  \n",
    "\n",
    "\n",
    "print(\"FILA 4: \",temp_convert(20.2))\n",
    "print(\"FILA 8: \", temp_convert(19.8))\n",
    "\n",
    "temp_conver = [temp_convert(15.4),temp_convert(18.1),temp_convert(19.2),temp_convert(20.2),temp_convert(21.4),temp_convert(20.1),temp_convert(18.9),temp_convert(19.8),temp_convert(19.4),temp_convert(19.1),temp_convert(17.9),temp_convert(15.7)]\n",
    "print (temp_conver)"
   ]
  },
  {
   "cell_type": "code",
   "execution_count": null,
   "id": "09471ac1-1f57-45fa-9f81-ada832d3b7d9",
   "metadata": {},
   "outputs": [],
   "source": []
  }
 ],
 "metadata": {
  "kernelspec": {
   "display_name": "Python 3 (ipykernel)",
   "language": "python",
   "name": "python3"
  },
  "language_info": {
   "codemirror_mode": {
    "name": "ipython",
    "version": 3
   },
   "file_extension": ".py",
   "mimetype": "text/x-python",
   "name": "python",
   "nbconvert_exporter": "python",
   "pygments_lexer": "ipython3",
   "version": "3.11.7"
  }
 },
 "nbformat": 4,
 "nbformat_minor": 5
}
